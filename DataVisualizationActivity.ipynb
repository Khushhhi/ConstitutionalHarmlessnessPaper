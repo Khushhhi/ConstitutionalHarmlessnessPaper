{
  "nbformat": 4,
  "nbformat_minor": 0,
  "metadata": {
    "colab": {
      "provenance": [],
      "include_colab_link": true
    },
    "kernelspec": {
      "name": "python3",
      "display_name": "Python 3"
    },
    "language_info": {
      "name": "python"
    }
  },
  "cells": [
    {
      "cell_type": "markdown",
      "metadata": {
        "id": "view-in-github",
        "colab_type": "text"
      },
      "source": [
        "<a href=\"https://colab.research.google.com/github/Khushhhi/ConstitutionalHarmlessnessPaper/blob/main/DataVisualizationActivity.ipynb\" target=\"_parent\"><img src=\"https://colab.research.google.com/assets/colab-badge.svg\" alt=\"Open In Colab\"/></a>"
      ]
    },
    {
      "cell_type": "markdown",
      "source": [
        "This is the beginning of part 1 of this activity."
      ],
      "metadata": {
        "id": "awDYc9qmdNaX"
      }
    },
    {
      "cell_type": "code",
      "source": [
        "# upload anscombe.csv file\n",
        "from google.colab import files\n",
        "uploaded = files.upload()"
      ],
      "metadata": {
        "id": "AGqt0-cIYdi0"
      },
      "execution_count": null,
      "outputs": []
    },
    {
      "cell_type": "code",
      "source": [
        "# convert anscombe.csv file to pandas format\n",
        "import pandas as pd\n",
        "import io\n",
        "\n",
        "df = pd.read_csv('anscombe.csv')\n",
        "print(df)"
      ],
      "metadata": {
        "id": "wfYje3P8Yrl_"
      },
      "execution_count": null,
      "outputs": []
    },
    {
      "cell_type": "code",
      "metadata": {
        "id": "jnNHY8BQlimA"
      },
      "source": [
        "# Show the columns in the dataset\n",
        "print(df.columns)"
      ],
      "execution_count": null,
      "outputs": []
    },
    {
      "cell_type": "code",
      "metadata": {
        "id": "sDZUk2uJllRv"
      },
      "source": [
        "# Calculate descriptive statistics for x1, y1 - this is done for you, so make copies to do for remaining variable sets\n",
        "import statistics\n",
        "from scipy.stats import pearsonr\n",
        "\n",
        "# Convert pandas dataframe into pandas series\n",
        "list1 = df['x1']\n",
        "list2 = df['y1']\n",
        "\n",
        "# Fill out the following function calls with the correct variables\n",
        "\n",
        "# Calculating mean for x1\n",
        "meanx1 = statistics.mean(list1)\n",
        "print(meanx1)\n",
        "\n",
        "# Calculating standard deviation for x1\n",
        "stdevx1 = statistics.stdev(list1)\n",
        "print(stdevx1)\n",
        "\n",
        "# Calculating mean for y1\n",
        "meany1 = statistics.mean(list2)\n",
        "print(meany1)\n",
        "\n",
        "# Calculating standard deviation for y1\n",
        "stdevy1 = statistics.stdev(list2)\n",
        "print(stdevy1)\n",
        "\n",
        "# Calculating pearson correlation for x1 and y1\n",
        "corr1 = pearsonr(list1, list2)\n",
        "print(corr1)\n"
      ],
      "execution_count": null,
      "outputs": []
    },
    {
      "cell_type": "code",
      "metadata": {
        "id": "jaBcpvsuwxup"
      },
      "source": [
        "import matplotlib.pyplot as plt\n",
        "import seaborn as sns\n",
        "\n",
        "# Fill in the x and y values below - this is done for you for x1 and y1, so make copies to do so for remaining variables\n",
        "sns.scatterplot(data=df,x=df['x1'],y=df['y1'])\n",
        "p2 = sns.regplot(data=df, x=df['x1'] , y=df['y1'] , line_kws={'color': 'g'})"
      ],
      "execution_count": null,
      "outputs": []
    },
    {
      "cell_type": "markdown",
      "source": [
        "This is the end of part 1 of this activity."
      ],
      "metadata": {
        "id": "RMWnhYA3amSp"
      }
    },
    {
      "cell_type": "markdown",
      "source": [
        "Now we will begin part 2 of this activity."
      ],
      "metadata": {
        "id": "eFcJnWSpapUg"
      }
    },
    {
      "cell_type": "code",
      "metadata": {
        "id": "V-A7PfH3055_"
      },
      "source": [
        "# Import the csv file\n",
        "# upload Marine_CSV_sample.csv file\n",
        "from google.colab import files\n",
        "uploaded = files.upload()"
      ],
      "execution_count": null,
      "outputs": []
    },
    {
      "cell_type": "code",
      "source": [
        "# convert csv file to pandas format\n",
        "import pandas as pd\n",
        "import io\n",
        "\n",
        "df = pd.read_csv(io.BytesIO(uploaded['Marine_CSV_sample.csv']))\n",
        "print(df)"
      ],
      "metadata": {
        "id": "NMzy25sab5V7"
      },
      "execution_count": null,
      "outputs": []
    },
    {
      "cell_type": "code",
      "source": [
        "# Display the columns for this dataset\n",
        "print(df.columns)"
      ],
      "metadata": {
        "id": "jt1p19Sabz8n"
      },
      "execution_count": null,
      "outputs": []
    },
    {
      "cell_type": "code",
      "metadata": {
        "id": "8pFvEPN66X-w"
      },
      "source": [
        "# Plot by cloud height\n",
        "import seaborn as sns\n",
        "import matplotlib.pyplot as plt\n",
        "\n",
        "sns.countplot(data=df,x=df['Cloud Height'])"
      ],
      "execution_count": null,
      "outputs": []
    },
    {
      "cell_type": "code",
      "metadata": {
        "id": "5Wzaw96lAhSV"
      },
      "source": [
        "# Plot by wind speed column, experiment with the bins variable\n",
        "sns.histplot(df,x=df['Wind Speed'], bins = 5)"
      ],
      "execution_count": null,
      "outputs": []
    },
    {
      "cell_type": "code",
      "source": [
        "# Plot by wind speed column, now add x and y axes labels to make more professional\n",
        "sns.histplot(df,x=df['Wind Speed'], bins = 20)\n",
        "plt.xlabel(\"\") # Add a label to the x axis\n",
        "plt.ylabel(\"\") # Add a label to the y axis\n",
        "plt.title(\"\") # Add a title"
      ],
      "metadata": {
        "id": "aMVxqQaDgoep"
      },
      "execution_count": null,
      "outputs": []
    },
    {
      "cell_type": "code",
      "source": [
        "# Make your own graph to answer a question you have about the data"
      ],
      "metadata": {
        "id": "99B4CGwDhCwX"
      },
      "execution_count": null,
      "outputs": []
    },
    {
      "cell_type": "markdown",
      "source": [
        "This is the end of part 2 of this activity."
      ],
      "metadata": {
        "id": "A1VRPGzndUcV"
      }
    }
  ]
}